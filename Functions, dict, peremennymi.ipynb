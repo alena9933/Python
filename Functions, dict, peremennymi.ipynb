{
 "cells": [
  {
   "cell_type": "code",
   "execution_count": 2,
   "id": "01384811",
   "metadata": {
    "scrolled": true
   },
   "outputs": [
    {
     "name": "stdout",
     "output_type": "stream",
     "text": [
      "i_max = 360\n"
     ]
    }
   ],
   "source": [
    "# Найти наибольший делитель !2021\n",
    "\n",
    "s=1\n",
    "\n",
    "for i  in range(1, 2021):\n",
    "    s *= i\n",
    "# print(\"s =\",s)\n",
    "\n",
    "j = 1\n",
    "g = 1\n",
    "for i in range(1, s):\n",
    "    q = i ** i\n",
    "#     print(i, q)\n",
    "    \n",
    "    if q < s:\n",
    "        if s % q != 0:\n",
    "            continue\n",
    "        \n",
    "        if s % q == 0:\n",
    "            k = i\n",
    "    \n",
    "    if q >= s:\n",
    "        break\n",
    "\n",
    "print(\"i_max =\", k)"
   ]
  },
  {
   "cell_type": "code",
   "execution_count": 16,
   "id": "8a539621",
   "metadata": {},
   "outputs": [
    {
     "name": "stdout",
     "output_type": "stream",
     "text": [
      "{'course': 1, 'python': 1, 'kafka': 2}\n"
     ]
    }
   ],
   "source": [
    "# Посчитать кол-во слов в строке и отсортировать по кол-ву\n",
    "\n",
    "stroka = ['course', 'kafka', 'kafka', 'python']\n",
    "proba_dict = {}\n",
    "new_sorted_dict = dict()\n",
    "\n",
    "x = 1\n",
    "for i in stroka:\n",
    "    if i in proba_dict:\n",
    "        proba_dict[i] = x + 1\n",
    "    else:\n",
    "        proba_dict[i] = x\n",
    "    \n",
    "sorted_values = sorted(proba_dict.values())\n",
    "# print(sorted_values)\n",
    "# print(proba_dict.keys())\n",
    "\n",
    "for i in sorted_values:\n",
    "    for k in proba_dict.keys():\n",
    "        if proba_dict[k] == i:\n",
    "            new_sorted_dict[k] = proba_dict[k]\n",
    "#             break\n",
    "            \n",
    "print(new_sorted_dict)"
   ]
  },
  {
   "cell_type": "code",
   "execution_count": 13,
   "id": "86127670",
   "metadata": {},
   "outputs": [
    {
     "name": "stdout",
     "output_type": "stream",
     "text": [
      "a 7\n",
      "c 5\n",
      "e 7\n",
      "g 2\n",
      "h 5\n",
      "i 5\n",
      "m 3\n",
      "n 3\n",
      "o 2\n",
      "p 2\n",
      "r 4\n",
      "s 5\n",
      "t 5\n"
     ]
    }
   ],
   "source": [
    "# Посчитать кол-во букв в строке\n",
    "\n",
    "chars = \"abcdefghijklmnopqrstuvwxyz\"\n",
    "check_string = \"i am checking this string to see how many times each character appears\"\n",
    "\n",
    "for char in chars:\n",
    "    count = check_string.count(char)\n",
    "    if count > 1:\n",
    "        print(char, count)\n",
    "count = {}"
   ]
  },
  {
   "cell_type": "code",
   "execution_count": 15,
   "id": "3dde6604",
   "metadata": {},
   "outputs": [
    {
     "name": "stdout",
     "output_type": "stream",
     "text": [
      "dict_keys(['P', 'S', 'C', 'b', 'g', 'x', 'p', 'q', 'y', 't', 'h', 'o', 'n', ' ', 'a', 'r', 'u', 's', 'e', 'f', 'i', 'd', 'c', 'l', 'w'])\n"
     ]
    }
   ],
   "source": [
    "# Выписать все уникальные символы в строке\n",
    "\n",
    "given_string = 'Python Star Course for beginners and experts for data science and analytics without sql with code'\n",
    "\n",
    "proba_3_dict = {}\n",
    "new_sorted_dict = dict()\n",
    "x = 1\n",
    "\n",
    "for i in given_string:\n",
    "    if i in proba_3_dict:\n",
    "        proba_3_dict[i] = x + 1\n",
    "    else:\n",
    "        proba_3_dict[i] = x\n",
    "        \n",
    "sorted_values = sorted(proba_3_dict.values())\n",
    "\n",
    "for i in sorted_values:\n",
    "    for k in proba_3_dict.keys():\n",
    "        if proba_3_dict[k] == i:\n",
    "            new_sorted_dict[k] = proba_3_dict[k]\n",
    "            \n",
    "# print(new_sorted_dict)\n",
    "print(new_sorted_dict.keys())"
   ]
  },
  {
   "cell_type": "code",
   "execution_count": 14,
   "id": "2c055031",
   "metadata": {},
   "outputs": [
    {
     "name": "stdout",
     "output_type": "stream",
     "text": [
      "0\n"
     ]
    }
   ],
   "source": [
    "# Работа с функцией\n",
    "\n",
    "def f1(xx):\n",
    "    def f2(yy):\n",
    "        return 4 * xx - yy\n",
    "    return f2\n",
    "\n",
    "ff = f1(36)\n",
    "print(ff(144))"
   ]
  },
  {
   "cell_type": "code",
   "execution_count": null,
   "id": "67be3d74",
   "metadata": {},
   "outputs": [],
   "source": [
    "# Классы и объекты\n",
    "\n",
    "class Vehicle(object):\n",
    "    \"\"\"docstring\"\"\"\n",
    " \n",
    "    def __init__(self, x, y, z):\n",
    "        \"\"\"Constructor\"\"\"\n",
    "        self.color = x\n",
    "        self.doors = y\n",
    "        self.tires = z\n",
    "    \n",
    "    def brake(self):\n",
    "        \"\"\"\n",
    "        Stop the car\n",
    "        \"\"\"\n",
    "        return \"Braking\"\n",
    "    \n",
    "    def drive(self):\n",
    "        \"\"\"\n",
    "        Drive the car\n",
    "        \"\"\"\n",
    "        return \"I'm driving!\"\n",
    "    \n",
    "a = Vehicle('синий', 4, 1)\n",
    "print(a.doors)"
   ]
  },
  {
   "cell_type": "code",
   "execution_count": null,
   "id": "da8d862d",
   "metadata": {},
   "outputs": [],
   "source": [
    "# Декодирование строк\n",
    "\n",
    "import base64\n",
    "\n",
    "bt = b'U21hcnQgaXMgdGhlIG5ldyBzZXh5IQ=='\n",
    "base64.b64decode(bt)\n",
    "\n",
    "# bs = b'0YHQv9Cw0YHQuNCx0L4='\n",
    "# base64.b64decode(bs).decode('utf-8')"
   ]
  }
 ],
 "metadata": {
  "kernelspec": {
   "display_name": "Python 3 (ipykernel)",
   "language": "python",
   "name": "python3"
  },
  "language_info": {
   "codemirror_mode": {
    "name": "ipython",
    "version": 3
   },
   "file_extension": ".py",
   "mimetype": "text/x-python",
   "name": "python",
   "nbconvert_exporter": "python",
   "pygments_lexer": "ipython3",
   "version": "3.9.12"
  }
 },
 "nbformat": 4,
 "nbformat_minor": 5
}
