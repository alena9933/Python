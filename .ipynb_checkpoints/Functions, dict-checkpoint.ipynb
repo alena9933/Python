{
 "cells": [
  {
   "cell_type": "code",
   "execution_count": 2,
   "id": "01384811",
   "metadata": {
    "scrolled": true
   },
   "outputs": [
    {
     "name": "stdout",
     "output_type": "stream",
     "text": [
      "i_max = 360\n"
     ]
    }
   ],
   "source": [
    "# Найти наибольший делитель !2021\n",
    "\n",
    "s=1\n",
    "\n",
    "for i  in range(1, 2021):\n",
    "    s *= i\n",
    "# print(\"s =\",s)\n",
    "\n",
    "j = 1\n",
    "g = 1\n",
    "for i in range(1, s):\n",
    "    q = i ** i\n",
    "#     print(i, q)\n",
    "    \n",
    "    if q < s:\n",
    "        if s % q != 0:\n",
    "            continue\n",
    "        \n",
    "        if s % q == 0:\n",
    "            k = i\n",
    "    \n",
    "    if q >= s:\n",
    "        break\n",
    "\n",
    "print(\"i_max =\", k)"
   ]
  }
 ],
 "metadata": {
  "kernelspec": {
   "display_name": "Python 3 (ipykernel)",
   "language": "python",
   "name": "python3"
  },
  "language_info": {
   "codemirror_mode": {
    "name": "ipython",
    "version": 3
   },
   "file_extension": ".py",
   "mimetype": "text/x-python",
   "name": "python",
   "nbconvert_exporter": "python",
   "pygments_lexer": "ipython3",
   "version": "3.9.12"
  }
 },
 "nbformat": 4,
 "nbformat_minor": 5
}
